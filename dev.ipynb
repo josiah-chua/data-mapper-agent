{
 "cells": [
  {
   "cell_type": "markdown",
   "metadata": {},
   "source": [
    "# SQL Agent"
   ]
  },
  {
   "cell_type": "code",
   "execution_count": 67,
   "metadata": {},
   "outputs": [],
   "source": [
    "import os\n",
    "from typing import Annotated\n",
    "from typing_extensions import TypedDict\n",
    "from langgraph.graph import StateGraph, START, END\n",
    "from langgraph.graph.message import add_messages\n",
    "from langchain_openai import AzureChatOpenAI"
   ]
  },
  {
   "cell_type": "code",
   "execution_count": 68,
   "metadata": {},
   "outputs": [],
   "source": [
    "from langchain_community.tools.sql_database.tool import (\n",
    "    ListSQLDatabaseTool,\n",
    "    QuerySQLCheckerTool,\n",
    "    QuerySQLDatabaseTool,\n",
    "    InfoSQLDatabaseTool\n",
    ")\n",
    "from langchain_core.messages.system import SystemMessage\n",
    "from langchain_community.utilities.sql_database import SQLDatabase"
   ]
  },
  {
   "cell_type": "code",
   "execution_count": 69,
   "metadata": {},
   "outputs": [],
   "source": [
    "from pydantic import BaseModel\n",
    "from langgraph.types import Command, interrupt\n",
    "from langgraph.checkpoint.memory import MemorySaver"
   ]
  },
  {
   "cell_type": "code",
   "execution_count": 70,
   "metadata": {},
   "outputs": [
    {
     "data": {
      "text/plain": [
       "True"
      ]
     },
     "execution_count": 70,
     "metadata": {},
     "output_type": "execute_result"
    }
   ],
   "source": [
    "from IPython.display import Image, display\n",
    "from dotenv import load_dotenv\n",
    "load_dotenv()"
   ]
  },
  {
   "cell_type": "markdown",
   "metadata": {},
   "source": [
    "## SQL Tools"
   ]
  },
  {
   "cell_type": "code",
   "execution_count": 71,
   "metadata": {},
   "outputs": [],
   "source": [
    "class State(TypedDict):\n",
    "    # Messages have the type \"list\". The `add_messages` function\n",
    "    # in the annotation defines how this state key should be updated\n",
    "    # (in this case, it appends messages to the list, rather than overwriting them)\n",
    "    messages: Annotated[list, add_messages]  # basically passes the history through"
   ]
  },
  {
   "cell_type": "code",
   "execution_count": 72,
   "metadata": {},
   "outputs": [],
   "source": [
    "# Initalize database \n",
    "db_shop = SQLDatabase.from_uri(\"sqlite:///shop.db\")\n",
    "db_finance = SQLDatabase.from_uri(\"sqlite:///finance.db\")"
   ]
  },
  {
   "cell_type": "code",
   "execution_count": 73,
   "metadata": {},
   "outputs": [],
   "source": [
    "db_shop_sql_llm = AzureChatOpenAI(\n",
    "    api_key=os.environ['AZURE_OPENAI_KEY'],\n",
    "    azure_endpoint=os.environ['AZURE_OPENAI_ENDPOINT'],\n",
    "    azure_deployment=os.environ['AZURE_OPENAI_DEPLOYMENT_ID'],\n",
    "    api_version=os.environ['AZURE_OPENAI_API_VERSION'],\n",
    "    temperature=0,\n",
    "    max_tokens=4096,\n",
    "    timeout=60,\n",
    "    max_retries=2,\n",
    ")"
   ]
  },
  {
   "cell_type": "code",
   "execution_count": 74,
   "metadata": {},
   "outputs": [],
   "source": [
    "db_finance_sql_llm = AzureChatOpenAI(\n",
    "    api_key=os.environ['AZURE_OPENAI_KEY'],\n",
    "    azure_endpoint=os.environ['AZURE_OPENAI_ENDPOINT'],\n",
    "    azure_deployment=os.environ['AZURE_OPENAI_DEPLOYMENT_ID'],\n",
    "    api_version=os.environ['AZURE_OPENAI_API_VERSION'],\n",
    "    temperature=0,\n",
    "    max_tokens=4096,\n",
    "    timeout=60,\n",
    "    max_retries=2,\n",
    ")"
   ]
  },
  {
   "cell_type": "code",
   "execution_count": 75,
   "metadata": {},
   "outputs": [],
   "source": [
    "db_shop_list_tool = ListSQLDatabaseTool(db = db_shop)\n",
    "db_shop_info_tool = InfoSQLDatabaseTool(db=db_shop)\n",
    "db_shop_query_checker_tool = QuerySQLCheckerTool(\n",
    "    db = db_shop,\n",
    "    llm = db_shop_sql_llm)\n",
    "db_shop_query_tool = QuerySQLDatabaseTool(db = db_shop)\n",
    "\n",
    "db_shop_list_tool.name = 'sql_db_shop_list_tables'\n",
    "db_shop_info_tool.name = 'sql_db_shop_schema'\n",
    "db_shop_query_checker_tool.name = 'sql_db_shop_query_checker'\n",
    "db_shop_query_tool.name = 'sql_db_shop_query'\n"
   ]
  },
  {
   "cell_type": "code",
   "execution_count": 76,
   "metadata": {},
   "outputs": [],
   "source": [
    "db_finance_list_tool = ListSQLDatabaseTool(db = db_finance)\n",
    "db_finance_info_tool = InfoSQLDatabaseTool(db=db_finance)\n",
    "db_finance_query_checker_tool = QuerySQLCheckerTool(\n",
    "    db = db_finance,\n",
    "    llm = db_finance_sql_llm )\n",
    "db_finance_query_tool = QuerySQLDatabaseTool(db = db_finance)\n",
    "\n",
    "db_finance_list_tool.name = 'sql_db_finance_list_tables'\n",
    "db_finance_info_tool.name = 'sql_db_finance_schema'\n",
    "db_finance_query_checker_tool.name = 'sql_db_finance_query_checker'\n",
    "db_finance_query_tool.name = 'sql_db_finance_query'"
   ]
  },
  {
   "cell_type": "code",
   "execution_count": 77,
   "metadata": {},
   "outputs": [],
   "source": [
    "class HumanFeedback(BaseModel):\n",
    "    \"\"\"Ask the human a question\"\"\"\n",
    "    name: str = 'AskHuman'\n",
    "    description:str = 'Get users feed back to check for final approval of the output'\n",
    "    question: str"
   ]
  },
  {
   "cell_type": "code",
   "execution_count": 78,
   "metadata": {},
   "outputs": [],
   "source": [
    "db_tools = [\n",
    "    db_finance_list_tool,\n",
    "    db_finance_info_tool,\n",
    "    db_finance_query_checker_tool,\n",
    "    db_finance_query_tool,\n",
    "    db_shop_list_tool,\n",
    "    db_shop_info_tool,\n",
    "    db_shop_query_checker_tool,\n",
    "    db_shop_query_tool,\n",
    "]"
   ]
  },
  {
   "cell_type": "code",
   "execution_count": 79,
   "metadata": {},
   "outputs": [],
   "source": [
    "all_tools = db_tools + [AskHuman]"
   ]
  },
  {
   "cell_type": "markdown",
   "metadata": {},
   "source": [
    "## agent"
   ]
  },
  {
   "cell_type": "code",
   "execution_count": 91,
   "metadata": {},
   "outputs": [],
   "source": [
    "agent_llm = AzureChatOpenAI(\n",
    "    api_key=os.environ['AZURE_OPENAI_KEY'],\n",
    "    azure_endpoint=os.environ['AZURE_OPENAI_ENDPOINT'],\n",
    "    azure_deployment=os.environ['AZURE_OPENAI_DEPLOYMENT_ID'],\n",
    "    api_version=os.environ['AZURE_OPENAI_API_VERSION'],\n",
    "    temperature=0,\n",
    "    max_tokens=4096,\n",
    "    timeout=60,\n",
    "    max_retries=2,\n",
    ")\n",
    "agent_llm = agent_llm.bind_tools(all_tools)\n",
    "\n",
    "# System message\n",
    "sys_msg = SystemMessage(content=\"\"\"You are a data mapping assistant profficient with SQL whose job is to use the 2 databases shop and finance that you are connected to, to match fields with the list of fields in a dataset.\n",
    "There are 4 main tasks:\n",
    "1. Match fields, find all possible matches from both data bases and give a confidence rating of low medium high based on how confident you are that that database table field maps to the given field.\n",
    "2. Always ask the user for feedback after being done with the mapping using the feedback tool.\n",
    "3. Generate the SQL query to give you the final data table\n",
    "4. Ensure that if columns are joint from different databases/tables match the same field, convert them same format for example, categories of countries might be (US, EU...) in one but in another it is (America, Europe ...) and numerical value are in the same precision/units.\n",
    "\"\"\")\n",
    "   \n",
    "def chatbot(state: State):\n",
    "    return {\"messages\": [agent_llm.invoke([sys_msg] + state[\"messages\"])]}"
   ]
  },
  {
   "cell_type": "code",
   "execution_count": 92,
   "metadata": {},
   "outputs": [],
   "source": [
    "import json\n",
    "from langchain_core.messages import ToolMessage\n",
    "class DBToolsNode:\n",
    "    \"\"\"A node that runs the tools requested in the last AIMessage.\"\"\"\n",
    "\n",
    "    def __init__(self, tools: list) -> None:\n",
    "        self.tools_by_name = {tool.name: tool for tool in tools}\n",
    "\n",
    "    def __call__(self, inputs: dict):\n",
    "        if messages := inputs.get(\"messages\", []):\n",
    "            message = messages[-1]\n",
    "        else:\n",
    "            raise ValueError(\"No message found in input\")\n",
    "        outputs = []\n",
    "        for tool_call in message.tool_calls:\n",
    "            tool_result = self.tools_by_name[tool_call[\"name\"]].invoke(\n",
    "                tool_call[\"args\"]\n",
    "            )\n",
    "            outputs.append(\n",
    "                ToolMessage(\n",
    "                    content=json.dumps(tool_result),\n",
    "                    name=tool_call[\"name\"],\n",
    "                    tool_call_id=tool_call[\"id\"],\n",
    "                )\n",
    "            )\n",
    "        return {\"messages\": outputs}"
   ]
  },
  {
   "cell_type": "code",
   "execution_count": 93,
   "metadata": {},
   "outputs": [],
   "source": [
    "def ask_human(state):\n",
    "    if messages := state.get(\"messages\", []):\n",
    "        message = messages[-1]\n",
    "    else:\n",
    "        raise ValueError(\"No message found in input\")\n",
    "    \n",
    "    print(message)\n",
    "\n",
    "    feedback = interrupt(\"Is there any feedback:\")\n",
    "    for tool_call in message.tool_calls:\n",
    "        user_message = [\n",
    "            {\n",
    "                'content': feedback,\n",
    "                'name': 'ask_human',\n",
    "                'role': 'user',\n",
    "                \"type\": \"tool\",\n",
    "                'tool_call_id': tool_call[\"id\"]\n",
    "            }\n",
    "        ]\n",
    "    return {\"messages\": user_message}"
   ]
  },
  {
   "cell_type": "code",
   "execution_count": 94,
   "metadata": {},
   "outputs": [],
   "source": [
    "db_tools_node = DBToolsNode(tools = db_tools)"
   ]
  },
  {
   "cell_type": "code",
   "execution_count": 95,
   "metadata": {},
   "outputs": [],
   "source": [
    "def route_tools(\n",
    "    state: State,\n",
    "):\n",
    "    \"\"\"\n",
    "    Use in the conditional_edge to route to the ToolNode if the last message\n",
    "    has tool calls. Otherwise, route to the end.\n",
    "    \"\"\"\n",
    "    if isinstance(state, list):\n",
    "        ai_message = state[-1]\n",
    "    elif messages := state.get(\"messages\", []):\n",
    "        ai_message = messages[-1]\n",
    "    else:\n",
    "        raise ValueError(f\"No messages found in input state to tool_edge: {state}\")\n",
    "    if hasattr(ai_message, \"tool_calls\") and len(ai_message.tool_calls) > 0:\n",
    "        if ai_message.tool_calls[0][\"name\"] == \"AskHuman\":\n",
    "            return \"ask_human\"\n",
    "        return \"db_tools\"\n",
    "    return END"
   ]
  },
  {
   "cell_type": "code",
   "execution_count": 96,
   "metadata": {},
   "outputs": [
    {
     "data": {
      "image/png": "[encoded data removed]",
      "text/plain": [
       "<IPython.core.display.Image object>"
      ]
     },
     "metadata": {},
     "output_type": "display_data"
    }
   ],
   "source": [
    "graph_builder = StateGraph(State)\n",
    "graph_builder.add_node(\"chatbot\", chatbot)\n",
    "graph_builder.add_node(\"db_tools\", db_tools_node)\n",
    "graph_builder.add_node(\"ask_human\", ask_human)\n",
    "graph_builder.add_conditional_edges(\n",
    "    \"chatbot\",\n",
    "    route_tools\n",
    ")\n",
    "graph_builder.add_edge(\"ask_human\", \"chatbot\")\n",
    "graph_builder.add_edge(\"db_tools\", \"chatbot\")\n",
    "graph_builder.add_edge(START, \"chatbot\")\n",
    "memory = MemorySaver()\n",
    "graph = graph_builder.compile(checkpointer=memory)\n",
    "display(Image(graph.get_graph().draw_mermaid_png()))"
   ]
  },
  {
   "cell_type": "code",
   "execution_count": 97,
   "metadata": {},
   "outputs": [
    {
     "name": "stdout",
     "output_type": "stream",
     "text": [
      "================================\u001b[1m Human Message \u001b[0m=================================\n",
      "\n",
      "table field: user id, email, most bought product, most common payment method\n",
      "==================================\u001b[1m Ai Message \u001b[0m==================================\n",
      "Tool Calls:\n",
      "  sql_db_shop_list_tables (call_5E3tvXL4zevxGpCutIxjBBri)\n",
      " Call ID: call_5E3tvXL4zevxGpCutIxjBBri\n",
      "  Args:\n",
      "  sql_db_finance_list_tables (call_FsUP7hhLp9fI9dnbJk70eiL9)\n",
      " Call ID: call_FsUP7hhLp9fI9dnbJk70eiL9\n",
      "  Args:\n",
      "=================================\u001b[1m Tool Message \u001b[0m=================================\n",
      "Name: sql_db_finance_list_tables\n",
      "\n",
      "\"cost_prices, financial_payments\"\n",
      "==================================\u001b[1m Ai Message \u001b[0m==================================\n",
      "Tool Calls:\n",
      "  sql_db_shop_schema (call_cQgXG7fU9iJ8s0otbQNPhUqS)\n",
      " Call ID: call_cQgXG7fU9iJ8s0otbQNPhUqS\n",
      "  Args:\n",
      "    table_names: users, orders, order_items, products\n",
      "  sql_db_finance_schema (call_AINCc8pAy5rvD5xeuy6uqA1W)\n",
      " Call ID: call_AINCc8pAy5rvD5xeuy6uqA1W\n",
      "  Args:\n",
      "    table_names: financial_payments\n",
      "=================================\u001b[1m Tool Message \u001b[0m=================================\n",
      "Name: sql_db_finance_schema\n",
      "\n",
      "\"\\nCREATE TABLE financial_payments (\\n\\tpayment_id INTEGER, \\n\\torder_id INTEGER, \\n\\tpayment_date TIMESTAMP DEFAULT CURRENT_TIMESTAMP, \\n\\tamount REAL NOT NULL, \\n\\tpayment_method TEXT, \\n\\tmasked_card TEXT, \\n\\tstatus TEXT, \\n\\tPRIMARY KEY (payment_id)\\n)\\n\\n/*\\n3 rows from financial_payments table:\\npayment_id\\torder_id\\tpayment_date\\tamount\\tpayment_method\\tmasked_card\\tstatus\\n1\\t168\\t2024-08-02 16:29:30\\t1765.36\\tCC\\t***********2114\\tCompleted\\n2\\t107\\t2024-09-25 03:30:48\\t682.33\\tpp\\tNone\\tCompleted\\n3\\t160\\t2024-05-05 19:58:46\\t1882.58\\tDC\\t***********5882\\tCompleted\\n*/\"\n",
      "==================================\u001b[1m Ai Message \u001b[0m==================================\n",
      "\n",
      "Here are the potential matches for the fields you provided from the `shop` and `finance` databases:\n",
      "\n",
      "1. **user id**\n",
      "   - **shop.users.user_id**: High confidence (exact match)\n",
      "   - **finance.financial_payments.order_id**: Low confidence (not a direct match, but related)\n",
      "\n",
      "2. **email**\n",
      "   - **shop.users.email**: High confidence (exact match)\n",
      "\n",
      "3. **most bought product**\n",
      "   - **shop.products.product_name**: Medium confidence (could be inferred from order data, but not a direct match)\n",
      "   - **shop.order_items.product_id**: Medium confidence (could be used to determine the most bought product through aggregation)\n",
      "\n",
      "4. **most common payment method**\n",
      "   - **shop.order_items.payment_method**: High confidence (direct match)\n",
      "   - **finance.financial_payments.payment_method**: High confidence (direct match)\n",
      "\n",
      "### Summary of Matches:\n",
      "- **user id**: shop.users.user_id (High)\n",
      "- **email**: shop.users.email (High)\n",
      "- **most bought product**: shop.products.product_name (Medium), shop.order_items.product_id (Medium)\n",
      "- **most common payment method**: shop.order_items.payment_method (High), finance.financial_payments.payment_method (High)\n",
      "\n",
      "Would you like to provide feedback on these mappings or suggest any changes?\n"
     ]
    }
   ],
   "source": [
    "config = {\"configurable\": {\"thread_id\": \"2\"}}\n",
    "for event in graph.stream(\n",
    "    {\n",
    "        \"messages\": [\n",
    "            {\n",
    "                \"role\": \"user\", \n",
    "                \"content\": \"table field: user id, email, most bought product, most common payment method\"}\n",
    "        ]\n",
    "    },\n",
    "    config,\n",
    "    stream_mode=\"values\",\n",
    "):\n",
    "    event[\"messages\"][-1].pretty_print()\n",
    "    pass"
   ]
  },
  {
   "cell_type": "code",
   "execution_count": 98,
   "metadata": {},
   "outputs": [
    {
     "data": {
      "text/plain": [
       "()"
      ]
     },
     "execution_count": 98,
     "metadata": {},
     "output_type": "execute_result"
    }
   ],
   "source": [
    "graph.get_state(config).next"
   ]
  },
  {
   "cell_type": "code",
   "execution_count": 99,
   "metadata": {},
   "outputs": [
    {
     "name": "stdout",
     "output_type": "stream",
     "text": [
      "==================================\u001b[1m Ai Message \u001b[0m==================================\n",
      "\n",
      "Here are the potential matches for the fields you provided from the `shop` and `finance` databases:\n",
      "\n",
      "1. **user id**\n",
      "   - **shop.users.user_id**: High confidence (exact match)\n",
      "   - **finance.financial_payments.order_id**: Low confidence (not a direct match, but related)\n",
      "\n",
      "2. **email**\n",
      "   - **shop.users.email**: High confidence (exact match)\n",
      "\n",
      "3. **most bought product**\n",
      "   - **shop.products.product_name**: Medium confidence (could be inferred from order data, but not a direct match)\n",
      "   - **shop.order_items.product_id**: Medium confidence (could be used to determine the most bought product through aggregation)\n",
      "\n",
      "4. **most common payment method**\n",
      "   - **shop.order_items.payment_method**: High confidence (direct match)\n",
      "   - **finance.financial_payments.payment_method**: High confidence (direct match)\n",
      "\n",
      "### Summary of Matches:\n",
      "- **user id**: shop.users.user_id (High)\n",
      "- **email**: shop.users.email (High)\n",
      "- **most bought product**: shop.products.product_name (Medium), shop.order_items.product_id (Medium)\n",
      "- **most common payment method**: shop.order_items.payment_method (High), finance.financial_payments.payment_method (High)\n",
      "\n",
      "Would you like to provide feedback on these mappings or suggest any changes?\n"
     ]
    }
   ],
   "source": [
    "for event in graph.stream(Command(resume=\"it is good\"), config, stream_mode=\"values\"):\n",
    "    event[\"messages\"][-1].pretty_print()"
   ]
  },
  {
   "cell_type": "code",
   "execution_count": 90,
   "metadata": {},
   "outputs": [
    {
     "name": "stdout",
     "output_type": "stream",
     "text": [
      "================================\u001b[1m Human Message \u001b[0m=================================\n",
      "\n",
      "give me the list of the tools that you have acccess to\n",
      "==================================\u001b[1m Ai Message \u001b[0m==================================\n",
      "\n",
      "Here are the tools I have access to:\n",
      "\n",
      "1. **List Tables**:\n",
      "   - `functions.sql_db_finance_list_tables`: Retrieve a list of tables from the finance database.\n",
      "   - `functions.sql_db_shop_list_tables`: Retrieve a list of tables from the shop database.\n",
      "\n",
      "2. **Get Schema**:\n",
      "   - `functions.sql_db_finance_schema`: Get the schema and sample rows for specified tables in the finance database.\n",
      "   - `functions.sql_db_shop_schema`: Get the schema and sample rows for specified tables in the shop database.\n",
      "\n",
      "3. **Query Checker**:\n",
      "   - `functions.sql_db_finance_query_checker`: Validate SQL queries for the finance database.\n",
      "   - `functions.sql_db_shop_query_checker`: Validate SQL queries for the shop database.\n",
      "\n",
      "4. **Execute Query**:\n",
      "   - `functions.sql_db_finance_query`: Execute SQL queries against the finance database.\n",
      "   - `functions.sql_db_shop_query`: Execute SQL queries against the shop database.\n",
      "\n",
      "5. **Ask Human**:\n",
      "   - `functions.AskHuman`: Pose questions to you for feedback or clarification.\n",
      "\n",
      "If you need to use any of these tools for a specific task, just let me know!\n"
     ]
    }
   ],
   "source": [
    "for event in graph.stream(\n",
    "    {\n",
    "        \"messages\": [\n",
    "            {\n",
    "                \"role\": \"user\", \n",
    "                \"content\": \"give me the list of the tools that you have acccess to\"}\n",
    "        ]\n",
    "    },\n",
    "    config,\n",
    "    stream_mode=\"values\",\n",
    "):\n",
    "    event[\"messages\"][-1].pretty_print()\n",
    "    pass"
   ]
  },
  {
   "cell_type": "code",
   "execution_count": null,
   "metadata": {},
   "outputs": [],
   "source": []
  }
 ],
 "metadata": {
  "kernelspec": {
   "display_name": "venv",
   "language": "python",
   "name": "python3"
  },
  "language_info": {
   "codemirror_mode": {
    "name": "ipython",
    "version": 3
   },
   "file_extension": ".py",
   "mimetype": "text/x-python",
   "name": "python",
   "nbconvert_exporter": "python",
   "pygments_lexer": "ipython3",
   "version": "3.12.4"
  }
 },
 "nbformat": 4,
 "nbformat_minor": 2
}
