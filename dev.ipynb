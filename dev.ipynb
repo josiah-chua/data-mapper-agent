{
 "cells": [
  {
   "cell_type": "markdown",
   "metadata": {},
   "source": [
    "# SQL Agent"
   ]
  },
  {
   "cell_type": "code",
   "execution_count": 2,
   "metadata": {},
   "outputs": [],
   "source": [
    "import os\n",
    "from typing import Annotated\n",
    "from typing_extensions import TypedDict\n",
    "from langgraph.graph import StateGraph, START, END\n",
    "from langgraph.graph.message import add_messages\n",
    "from langchain_openai import AzureChatOpenAI"
   ]
  },
  {
   "cell_type": "code",
   "execution_count": 3,
   "metadata": {},
   "outputs": [],
   "source": [
    "from langchain_community.tools.sql_database.tool import (\n",
    "    ListSQLDatabaseTool,\n",
    "    QuerySQLCheckerTool,\n",
    "    QuerySQLDatabaseTool,\n",
    "    InfoSQLDatabaseTool\n",
    ")\n",
    "from langchain_core.messages.system import SystemMessage\n",
    "from langchain_community.utilities.sql_database import SQLDatabase"
   ]
  },
  {
   "cell_type": "code",
   "execution_count": 4,
   "metadata": {},
   "outputs": [],
   "source": [
    "from pydantic import BaseModel, Field\n",
    "from typing import  Type\n",
    "from langgraph.types import Command, interrupt\n",
    "from langgraph.checkpoint.memory import MemorySaver"
   ]
  },
  {
   "cell_type": "code",
   "execution_count": 5,
   "metadata": {},
   "outputs": [
    {
     "data": {
      "text/plain": [
       "True"
      ]
     },
     "execution_count": 5,
     "metadata": {},
     "output_type": "execute_result"
    }
   ],
   "source": [
    "from IPython.display import Image, display\n",
    "from dotenv import load_dotenv\n",
    "load_dotenv()"
   ]
  },
  {
   "cell_type": "markdown",
   "metadata": {},
   "source": [
    "## SQL Tools"
   ]
  },
  {
   "cell_type": "code",
   "execution_count": 6,
   "metadata": {},
   "outputs": [],
   "source": [
    "class State(TypedDict):\n",
    "    # Messages have the type \"list\". The `add_messages` function\n",
    "    # in the annotation defines how this state key should be updated\n",
    "    # (in this case, it appends messages to the list, rather than overwriting them)\n",
    "    messages: Annotated[list, add_messages]  # basically passes the history through"
   ]
  },
  {
   "cell_type": "code",
   "execution_count": 7,
   "metadata": {},
   "outputs": [],
   "source": [
    "# Initalize database \n",
    "db_shop = SQLDatabase.from_uri(\"sqlite:///shop.db\")\n",
    "db_finance = SQLDatabase.from_uri(\"sqlite:///finance.db\")"
   ]
  },
  {
   "cell_type": "code",
   "execution_count": 8,
   "metadata": {},
   "outputs": [],
   "source": [
    "db_shop_sql_llm = AzureChatOpenAI(\n",
    "    api_key=os.environ['AZURE_OPENAI_KEY'],\n",
    "    azure_endpoint=os.environ['AZURE_OPENAI_ENDPOINT'],\n",
    "    azure_deployment=os.environ['AZURE_OPENAI_DEPLOYMENT_ID'],\n",
    "    api_version=os.environ['AZURE_OPENAI_API_VERSION'],\n",
    "    temperature=0,\n",
    "    max_tokens=4096,\n",
    "    timeout=60,\n",
    "    max_retries=2,\n",
    ")"
   ]
  },
  {
   "cell_type": "code",
   "execution_count": 9,
   "metadata": {},
   "outputs": [],
   "source": [
    "db_finance_sql_llm = AzureChatOpenAI(\n",
    "    api_key=os.environ['AZURE_OPENAI_KEY'],\n",
    "    azure_endpoint=os.environ['AZURE_OPENAI_ENDPOINT'],\n",
    "    azure_deployment=os.environ['AZURE_OPENAI_DEPLOYMENT_ID'],\n",
    "    api_version=os.environ['AZURE_OPENAI_API_VERSION'],\n",
    "    temperature=0,\n",
    "    max_tokens=4096,\n",
    "    timeout=60,\n",
    "    max_retries=2,\n",
    ")"
   ]
  },
  {
   "cell_type": "code",
   "execution_count": 10,
   "metadata": {},
   "outputs": [],
   "source": [
    "db_shop_list_tool = ListSQLDatabaseTool(db = db_shop)\n",
    "db_shop_info_tool = InfoSQLDatabaseTool(db=db_shop)\n",
    "db_shop_query_checker_tool = QuerySQLCheckerTool(\n",
    "    db = db_shop,\n",
    "    llm = db_shop_sql_llm)\n",
    "db_shop_query_tool = QuerySQLDatabaseTool(db = db_shop)\n",
    "\n",
    "db_shop_list_tool.name = 'sql_db_shop_list_tables'\n",
    "db_shop_info_tool.name = 'sql_db_shop_schema'\n",
    "db_shop_query_checker_tool.name = 'sql_db_shop_query_checker'\n",
    "db_shop_query_tool.name = 'sql_db_shop_query'\n"
   ]
  },
  {
   "cell_type": "code",
   "execution_count": 11,
   "metadata": {},
   "outputs": [],
   "source": [
    "db_finance_list_tool = ListSQLDatabaseTool(db = db_finance)\n",
    "db_finance_info_tool = InfoSQLDatabaseTool(db=db_finance)\n",
    "db_finance_query_checker_tool = QuerySQLCheckerTool(\n",
    "    db = db_finance,\n",
    "    llm = db_finance_sql_llm )\n",
    "db_finance_query_tool = QuerySQLDatabaseTool(db = db_finance)\n",
    "\n",
    "db_finance_list_tool.name = 'sql_db_finance_list_tables'\n",
    "db_finance_info_tool.name = 'sql_db_finance_schema'\n",
    "db_finance_query_checker_tool.name = 'sql_db_finance_query_checker'\n",
    "db_finance_query_tool.name = 'sql_db_finance_query'"
   ]
  },
  {
   "cell_type": "code",
   "execution_count": 12,
   "metadata": {},
   "outputs": [],
   "source": [
    "class _HumanFeedbackInput(BaseModel):\n",
    "    tool_input: str = Field(\"\", description=\"An empty string\")\n",
    "\n",
    "class HumanFeedback(BaseModel):\n",
    "    \"\"\"Ask the human a question\"\"\"\n",
    "    name: str = 'get_user_feedback'\n",
    "    description:str = 'Get users feed back to check for final approval of the output, Input is an empty string'\n",
    "    args_schema: Type[BaseModel] = _HumanFeedbackInput"
   ]
  },
  {
   "cell_type": "code",
   "execution_count": 13,
   "metadata": {},
   "outputs": [],
   "source": [
    "db_tools = [\n",
    "    db_finance_list_tool,\n",
    "    db_finance_info_tool,\n",
    "    db_finance_query_checker_tool,\n",
    "    db_finance_query_tool,\n",
    "    db_shop_list_tool,\n",
    "    db_shop_info_tool,\n",
    "    db_shop_query_checker_tool,\n",
    "    db_shop_query_tool,\n",
    "]"
   ]
  },
  {
   "cell_type": "code",
   "execution_count": 14,
   "metadata": {},
   "outputs": [],
   "source": [
    "all_tools = db_tools + [HumanFeedback]"
   ]
  },
  {
   "cell_type": "markdown",
   "metadata": {},
   "source": [
    "## agent"
   ]
  },
  {
   "cell_type": "code",
   "execution_count": 15,
   "metadata": {},
   "outputs": [
    {
     "name": "stderr",
     "output_type": "stream",
     "text": [
      "c:\\Users\\jochua\\data-mapper-agent\\venv\\Lib\\site-packages\\pydantic\\json_schema.py:2279: PydanticJsonSchemaWarning: Default value <class '__main__._HumanFeedbackInput'> is not JSON serializable; excluding default from JSON schema [non-serializable-default]\n",
      "  warnings.warn(message, PydanticJsonSchemaWarning)\n"
     ]
    }
   ],
   "source": [
    "agent_llm = AzureChatOpenAI(\n",
    "    api_key=os.environ['AZURE_OPENAI_KEY'],\n",
    "    azure_endpoint=os.environ['AZURE_OPENAI_ENDPOINT'],\n",
    "    azure_deployment=os.environ['AZURE_OPENAI_DEPLOYMENT_ID'],\n",
    "    api_version=os.environ['AZURE_OPENAI_API_VERSION'],\n",
    "    temperature=0,\n",
    "    max_tokens=4096,\n",
    "    timeout=60,\n",
    "    max_retries=2,\n",
    ")\n",
    "agent_llm = agent_llm.bind_tools(all_tools)\n",
    "\n",
    "# System message\n",
    "sys_msg = SystemMessage(content=\"\"\"You are a data mapping assistant profficient with SQL whose job is to use the 2 databases shop and finance that you are connected to, to match fields with the list of fields in a dataset.\n",
    "There are 2 main tasks:\n",
    "1. Match fields, find all possible matches from both data bases and give a confidence rating of low medium high based on how confident you are that that database table field maps to the given field.\n",
    "2. Generate the SQL query to give you the final data table\n",
    "Make sure to enforce these rules:\n",
    "1. Always ask the user for feedback after being done with the mapping using the feedback tool.\n",
    "2. Ensure that if columns are joint from different databases/tables match the same field, convert them same format for example, categories of countries might be (US, EU...) in one but in another it is (America, Europe ...) and numerical value are in the same precision/units.\n",
    "\"\"\")\n",
    "   \n",
    "def chatbot(state: State):\n",
    "    return {\"messages\": [agent_llm.invoke([sys_msg] + state[\"messages\"])]}"
   ]
  },
  {
   "cell_type": "code",
   "execution_count": 16,
   "metadata": {},
   "outputs": [],
   "source": [
    "import json\n",
    "from langchain_core.messages import ToolMessage\n",
    "class DBToolsNode:\n",
    "    \"\"\"A node that runs the tools requested in the last AIMessage.\"\"\"\n",
    "\n",
    "    def __init__(self, tools: list) -> None:\n",
    "        self.tools_by_name = {tool.name: tool for tool in tools}\n",
    "\n",
    "    def __call__(self, inputs: dict):\n",
    "        if messages := inputs.get(\"messages\", []):\n",
    "            message = messages[-1]\n",
    "        else:\n",
    "            raise ValueError(\"No message found in input\")\n",
    "        outputs = []\n",
    "        for tool_call in message.tool_calls:\n",
    "            tool_result = self.tools_by_name[tool_call[\"name\"]].invoke(\n",
    "                tool_call[\"args\"]\n",
    "            )\n",
    "            outputs.append(\n",
    "                ToolMessage(\n",
    "                    content=json.dumps(tool_result),\n",
    "                    name=tool_call[\"name\"],\n",
    "                    tool_call_id=tool_call[\"id\"],\n",
    "                )\n",
    "            )\n",
    "        return {\"messages\": outputs}"
   ]
  },
  {
   "cell_type": "code",
   "execution_count": 17,
   "metadata": {},
   "outputs": [],
   "source": [
    "def ask_human(state):\n",
    "    if messages := state.get(\"messages\", []):\n",
    "        message = messages[-1]\n",
    "    else:\n",
    "        raise ValueError(\"No message found in input\")\n",
    "    \n",
    "    print(message)\n",
    "\n",
    "    feedback = interrupt(\"Is there any feedback:\")\n",
    "    for tool_call in message.tool_calls:\n",
    "        user_message = [\n",
    "            {\n",
    "                'content': feedback,\n",
    "                'name': 'get_user_feedback',\n",
    "                'role': 'user',\n",
    "                \"type\": \"tool\",\n",
    "                'tool_call_id': tool_call[\"id\"]\n",
    "            }\n",
    "        ]\n",
    "    return {\"messages\": user_message}"
   ]
  },
  {
   "cell_type": "code",
   "execution_count": 18,
   "metadata": {},
   "outputs": [],
   "source": [
    "db_tools_node = DBToolsNode(tools = db_tools)"
   ]
  },
  {
   "cell_type": "code",
   "execution_count": 19,
   "metadata": {},
   "outputs": [],
   "source": [
    "def route_tools(\n",
    "    state: State,\n",
    "):\n",
    "    \"\"\"\n",
    "    Use in the conditional_edge to route to the ToolNode if the last message\n",
    "    has tool calls. Otherwise, route to the end.\n",
    "    \"\"\"\n",
    "    if isinstance(state, list):\n",
    "        ai_message = state[-1]\n",
    "    elif messages := state.get(\"messages\", []):\n",
    "        ai_message = messages[-1]\n",
    "    else:\n",
    "        raise ValueError(f\"No messages found in input state to tool_edge: {state}\")\n",
    "    if hasattr(ai_message, \"tool_calls\") and len(ai_message.tool_calls) > 0:\n",
    "        if ai_message.tool_calls[0][\"name\"] == \"get_user_feedback\":\n",
    "            return \"get_user_feedback\"\n",
    "        return \"db_tools\"\n",
    "    return END"
   ]
  },
  {
   "cell_type": "code",
   "execution_count": 20,
   "metadata": {},
   "outputs": [
    {
     "data": {
      "image/png": "[encoded data removed]",
      "text/plain": [
       "<IPython.core.display.Image object>"
      ]
     },
     "metadata": {},
     "output_type": "display_data"
    }
   ],
   "source": [
    "graph_builder = StateGraph(State)\n",
    "graph_builder.add_node(\"chatbot\", chatbot)\n",
    "graph_builder.add_node(\"db_tools\", db_tools_node)\n",
    "graph_builder.add_node(\"get_user_feedback\", ask_human)\n",
    "graph_builder.add_conditional_edges(\n",
    "    \"chatbot\",\n",
    "    route_tools\n",
    ")\n",
    "graph_builder.add_edge(\"get_user_feedback\", \"chatbot\")\n",
    "graph_builder.add_edge(\"db_tools\", \"chatbot\")\n",
    "graph_builder.add_edge(START, \"chatbot\")\n",
    "memory = MemorySaver()\n",
    "graph = graph_builder.compile(checkpointer=memory)\n",
    "display(Image(graph.get_graph().draw_mermaid_png()))"
   ]
  },
  {
   "cell_type": "code",
   "execution_count": 21,
   "metadata": {},
   "outputs": [
    {
     "name": "stdout",
     "output_type": "stream",
     "text": [
      "================================\u001b[1m Human Message \u001b[0m=================================\n",
      "\n",
      "table field: user id, email, most bought product, most common payment method, last seen date\n",
      "==================================\u001b[1m Ai Message \u001b[0m==================================\n",
      "Tool Calls:\n",
      "  sql_db_shop_list_tables (call_5LfTPX2girtlTyBiJOCOVVnz)\n",
      " Call ID: call_5LfTPX2girtlTyBiJOCOVVnz\n",
      "  Args:\n",
      "  sql_db_finance_list_tables (call_HfatjTtXPC2ptu77Ek2kjGDH)\n",
      " Call ID: call_HfatjTtXPC2ptu77Ek2kjGDH\n",
      "  Args:\n",
      "=================================\u001b[1m Tool Message \u001b[0m=================================\n",
      "Name: sql_db_finance_list_tables\n",
      "\n",
      "\"cost_prices, financial_payments\"\n",
      "==================================\u001b[1m Ai Message \u001b[0m==================================\n",
      "Tool Calls:\n",
      "  sql_db_shop_schema (call_1rDcMJL1I3ChvXWDanhcASHp)\n",
      " Call ID: call_1rDcMJL1I3ChvXWDanhcASHp\n",
      "  Args:\n",
      "    table_names: users, orders, order_items, products\n",
      "  sql_db_finance_schema (call_Hdb8GQLnHQHiSv4xf2lSTmzX)\n",
      " Call ID: call_Hdb8GQLnHQHiSv4xf2lSTmzX\n",
      "  Args:\n",
      "    table_names: financial_payments\n",
      "=================================\u001b[1m Tool Message \u001b[0m=================================\n",
      "Name: sql_db_finance_schema\n",
      "\n",
      "\"\\nCREATE TABLE financial_payments (\\n\\tpayment_id INTEGER, \\n\\torder_id INTEGER, \\n\\tpayment_date TIMESTAMP DEFAULT CURRENT_TIMESTAMP, \\n\\tamount REAL NOT NULL, \\n\\tpayment_method TEXT, \\n\\tmasked_card TEXT, \\n\\tstatus TEXT, \\n\\tPRIMARY KEY (payment_id)\\n)\\n\\n/*\\n3 rows from financial_payments table:\\npayment_id\\torder_id\\tpayment_date\\tamount\\tpayment_method\\tmasked_card\\tstatus\\n1\\t168\\t2024-08-02 16:29:30\\t1765.36\\tCC\\t***********2114\\tCompleted\\n2\\t107\\t2024-09-25 03:30:48\\t682.33\\tpp\\tNone\\tCompleted\\n3\\t160\\t2024-05-05 19:58:46\\t1882.58\\tDC\\t***********5882\\tCompleted\\n*/\"\n",
      "==================================\u001b[1m Ai Message \u001b[0m==================================\n",
      "\n",
      "Here are the potential matches for the fields you provided from the `shop` and `finance` databases:\n",
      "\n",
      "1. **user id**\n",
      "   - **shop.users.user_id**: High confidence (exact match)\n",
      "   - **finance.financial_payments.order_id**: Low confidence (not a direct match)\n",
      "\n",
      "2. **email**\n",
      "   - **shop.users.email**: High confidence (exact match)\n",
      "\n",
      "3. **most bought product**\n",
      "   - **shop.products.product_name**: Medium confidence (could be derived from order data)\n",
      "   - **shop.order_items.product_id**: Medium confidence (requires joining with products table)\n",
      "\n",
      "4. **most common payment method**\n",
      "   - **shop.order_items.payment_method**: High confidence (exact match)\n",
      "   - **finance.financial_payments.payment_method**: High confidence (exact match)\n",
      "\n",
      "5. **last seen date**\n",
      "   - **shop.users.created_at**: Low confidence (not a direct match, but could be used as a proxy)\n",
      "   - **shop.orders.order_date**: Medium confidence (could indicate last activity)\n",
      "\n",
      "### Summary of Matches:\n",
      "- **user id**: shop.users.user_id (High)\n",
      "- **email**: shop.users.email (High)\n",
      "- **most bought product**: shop.products.product_name (Medium), shop.order_items.product_id (Medium)\n",
      "- **most common payment method**: shop.order_items.payment_method (High), finance.financial_payments.payment_method (High)\n",
      "- **last seen date**: shop.users.created_at (Low), shop.orders.order_date (Medium)\n",
      "\n",
      "### Next Steps\n",
      "Would you like to proceed with generating the SQL query to create the final data table based on these mappings? If so, please confirm or provide any adjustments you would like to make!\n"
     ]
    }
   ],
   "source": [
    "config = {\"configurable\": {\"thread_id\": \"2\"}}\n",
    "for event in graph.stream(\n",
    "    {\n",
    "        \"messages\": [\n",
    "            {\n",
    "                \"role\": \"user\", \n",
    "                \"content\": \"table field: user id, email, most bought product, most common payment method, last seen date\"}\n",
    "        ]\n",
    "    },\n",
    "    config,\n",
    "    stream_mode=\"values\",\n",
    "):\n",
    "    event[\"messages\"][-1].pretty_print()\n",
    "    pass"
   ]
  },
  {
   "cell_type": "code",
   "execution_count": 123,
   "metadata": {},
   "outputs": [
    {
     "data": {
      "text/plain": [
       "()"
      ]
     },
     "execution_count": 123,
     "metadata": {},
     "output_type": "execute_result"
    }
   ],
   "source": [
    "graph.get_state(config).next"
   ]
  },
  {
   "cell_type": "code",
   "execution_count": 121,
   "metadata": {},
   "outputs": [
    {
     "name": "stdout",
     "output_type": "stream",
     "text": [
      "==================================\u001b[1m Ai Message \u001b[0m==================================\n",
      "\n",
      "Here are the potential matches for the fields you provided from the `shop` and `finance` databases:\n",
      "\n",
      "1. **user id**\n",
      "   - **Match**: `user_id` from `users` table in `shop` database\n",
      "   - **Confidence**: High\n",
      "\n",
      "2. **email**\n",
      "   - **Match**: `email` from `users` table in `shop` database\n",
      "   - **Confidence**: High\n",
      "\n",
      "3. **most bought product**\n",
      "   - **Match**: This can be derived from the `products` table in the `shop` database by aggregating the `order_items` table to find the product with the highest quantity sold.\n",
      "   - **Confidence**: Medium (requires aggregation)\n",
      "\n",
      "4. **most common payment method**\n",
      "   - **Match**: This can be derived from the `payment_method` field in both `order_items` and `financial_payments` tables in the `shop` and `finance` databases respectively. We can aggregate to find the most common payment method.\n",
      "   - **Confidence**: Medium (requires aggregation)\n",
      "\n",
      "### SQL Query Generation\n",
      "\n",
      "To create a final data table that includes the user id, email, most bought product, and most common payment method, we can use the following SQL query:\n",
      "\n",
      "```sql\n",
      "WITH MostBoughtProduct AS (\n",
      "    SELECT oi.product_id, COUNT(oi.product_id) AS product_count\n",
      "    FROM order_items oi\n",
      "    JOIN orders o ON oi.order_id = o.order_id\n",
      "    GROUP BY oi.product_id\n",
      "    ORDER BY product_count DESC\n",
      "    LIMIT 1\n",
      "),\n",
      "MostCommonPaymentMethod AS (\n",
      "    SELECT payment_method, COUNT(payment_method) AS method_count\n",
      "    FROM (\n",
      "        SELECT payment_method FROM order_items\n",
      "        UNION ALL\n",
      "        SELECT payment_method FROM financial_payments\n",
      "    ) AS combined_payments\n",
      "    GROUP BY payment_method\n",
      "    ORDER BY method_count DESC\n",
      "    LIMIT 1\n",
      ")\n",
      "SELECT u.user_id, u.email, p.product_name AS most_bought_product, pm.payment_method AS most_common_payment_method\n",
      "FROM users u\n",
      "LEFT JOIN MostBoughtProduct mbp ON mbp.product_id = (SELECT product_id FROM products ORDER BY product_id LIMIT 1)\n",
      "LEFT JOIN products p ON mbp.product_id = p.product_id\n",
      "LEFT JOIN MostCommonPaymentMethod pm ON 1=1; -- This is a cross join to include the most common payment method\n",
      "```\n",
      "\n",
      "### Feedback Request\n",
      "\n",
      "Please let me know if you are satisfied with the mapping and the generated SQL query, or if you would like to make any adjustments!\n"
     ]
    }
   ],
   "source": [
    "for event in graph.stream(Command(resume=\"it is good\"), config, stream_mode=\"values\"):\n",
    "    event[\"messages\"][-1].pretty_print()"
   ]
  },
  {
   "cell_type": "code",
   "execution_count": 122,
   "metadata": {},
   "outputs": [
    {
     "name": "stdout",
     "output_type": "stream",
     "text": [
      "================================\u001b[1m Human Message \u001b[0m=================================\n",
      "\n",
      "give me the list of the tools that you have acccess to"
     ]
    },
    {
     "name": "stdout",
     "output_type": "stream",
     "text": [
      "\n",
      "==================================\u001b[1m Ai Message \u001b[0m==================================\n",
      "\n",
      "Here are the tools I have access to:\n",
      "\n",
      "1. **Database Tools for Finance:**\n",
      "   - `sql_db_finance_list_tables`: Lists all tables in the finance database.\n",
      "   - `sql_db_finance_schema`: Retrieves the schema and sample rows for specified tables in the finance database.\n",
      "   - `sql_db_finance_query_checker`: Checks the correctness of a SQL query before execution.\n",
      "   - `sql_db_finance_query`: Executes a SQL query against the finance database.\n",
      "\n",
      "2. **Database Tools for Shop:**\n",
      "   - `sql_db_shop_list_tables`: Lists all tables in the shop database.\n",
      "   - `sql_db_shop_schema`: Retrieves the schema and sample rows for specified tables in the shop database.\n",
      "   - `sql_db_shop_query_checker`: Checks the correctness of a SQL query before execution.\n",
      "   - `sql_db_shop_query`: Executes a SQL query against the shop database.\n",
      "\n",
      "3. **Feedback Tool:**\n",
      "   - `HumanFeedback`: Collects user feedback for final approval of the output.\n",
      "\n",
      "If you need to use any specific tool or have any questions about them, feel free to ask!\n"
     ]
    }
   ],
   "source": [
    "for event in graph.stream(\n",
    "    {\n",
    "        \"messages\": [\n",
    "            {\n",
    "                \"role\": \"user\", \n",
    "                \"content\": \"give me the list of the tools that you have acccess to\"}\n",
    "        ]\n",
    "    },\n",
    "    config,\n",
    "    stream_mode=\"values\",\n",
    "):\n",
    "    event[\"messages\"][-1].pretty_print()\n",
    "    pass"
   ]
  },
  {
   "cell_type": "code",
   "execution_count": null,
   "metadata": {},
   "outputs": [],
   "source": []
  }
 ],
 "metadata": {
  "kernelspec": {
   "display_name": "venv",
   "language": "python",
   "name": "python3"
  },
  "language_info": {
   "codemirror_mode": {
    "name": "ipython",
    "version": 3
   },
   "file_extension": ".py",
   "mimetype": "text/x-python",
   "name": "python",
   "nbconvert_exporter": "python",
   "pygments_lexer": "ipython3",
   "version": "3.12.4"
  }
 },
 "nbformat": 4,
 "nbformat_minor": 2
}
